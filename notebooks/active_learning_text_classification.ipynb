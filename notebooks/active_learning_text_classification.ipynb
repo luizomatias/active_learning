{
 "cells": [
  {
   "cell_type": "code",
   "execution_count": 63,
   "metadata": {},
   "outputs": [],
   "source": [
    "from sklearn.datasets import fetch_20newsgroups\n",
    "from modAL.models import ActiveLearner\n",
    "from modAL.uncertainty import uncertainty_sampling\n",
    "import pandas as pd\n",
    "import numpy as np\n",
    "from sklearn.pipeline import Pipeline\n",
    "from sklearn.feature_extraction.text import CountVectorizer\n",
    "from sklearn.feature_extraction.text import TfidfTransformer\n",
    "import matplotlib.pyplot as plt\n",
    "from sklearn.svm import SVC\n",
    "from sklearn.decomposition import TruncatedSVD\n",
    "import __init__\n",
    "from src.preprocessing_functions import processing"
   ]
  },
  {
   "cell_type": "code",
   "execution_count": 315,
   "metadata": {},
   "outputs": [],
   "source": [
    "categories = ['rec.sport.baseball', 'rec.sport.hockey'] \n",
    "twenty_train = fetch_20newsgroups(subset= 'train', categories=categories, shuffle=True, random_state=42, remove=('headers', 'footers', 'quotes'))\n",
    "twenty_test = fetch_20newsgroups(subset='test', categories=categories, shuffle=True, random_state=42, remove=('headers', 'footers', 'quotes'))"
   ]
  },
  {
   "cell_type": "code",
   "execution_count": 316,
   "metadata": {},
   "outputs": [
    {
     "data": {
      "text/plain": [
       "['rec.sport.baseball', 'rec.sport.hockey']"
      ]
     },
     "execution_count": 316,
     "metadata": {},
     "output_type": "execute_result"
    }
   ],
   "source": [
    "twenty_train.target_names"
   ]
  },
  {
   "cell_type": "code",
   "execution_count": 317,
   "metadata": {},
   "outputs": [],
   "source": [
    "train_data = pd.DataFrame(twenty_train.data, columns=['Text'])\n",
    "train_data['target'] = twenty_train.target\n",
    "test_data = pd.DataFrame(twenty_test.data, columns=['Text'])\n",
    "test_data['target'] = twenty_test.target"
   ]
  },
  {
   "cell_type": "code",
   "execution_count": 318,
   "metadata": {},
   "outputs": [
    {
     "name": "stdout",
     "output_type": "stream",
     "text": [
      "CPU times: user 2min 19s, sys: 594 ms, total: 2min 20s\n",
      "Wall time: 2min 20s\n"
     ]
    }
   ],
   "source": [
    "%%time\n",
    "train_data['text_preprocessing'] = [processing(text) for text in train_data['Text']]\n",
    "train_data['text_preprocessing'] = [' '.join(map(str, l)) for l in train_data['text_preprocessing']]"
   ]
  },
  {
   "cell_type": "code",
   "execution_count": 319,
   "metadata": {},
   "outputs": [
    {
     "name": "stdout",
     "output_type": "stream",
     "text": [
      "CPU times: user 1min 30s, sys: 380 ms, total: 1min 30s\n",
      "Wall time: 1min 30s\n"
     ]
    }
   ],
   "source": [
    "%%time\n",
    "test_data['text_preprocessing'] = [processing(text) for text in test_data['Text']]\n",
    "test_data['text_preprocessing'] = [' '.join(map(str, l)) for l in test_data['text_preprocessing']]"
   ]
  },
  {
   "cell_type": "code",
   "execution_count": 322,
   "metadata": {},
   "outputs": [
    {
     "data": {
      "text/html": [
       "<div>\n",
       "<style scoped>\n",
       "    .dataframe tbody tr th:only-of-type {\n",
       "        vertical-align: middle;\n",
       "    }\n",
       "\n",
       "    .dataframe tbody tr th {\n",
       "        vertical-align: top;\n",
       "    }\n",
       "\n",
       "    .dataframe thead th {\n",
       "        text-align: right;\n",
       "    }\n",
       "</style>\n",
       "<table border=\"1\" class=\"dataframe\">\n",
       "  <thead>\n",
       "    <tr style=\"text-align: right;\">\n",
       "      <th></th>\n",
       "      <th>Text</th>\n",
       "      <th>target</th>\n",
       "      <th>text_preprocessing</th>\n",
       "    </tr>\n",
       "  </thead>\n",
       "  <tbody>\n",
       "    <tr>\n",
       "      <th>0</th>\n",
       "      <td>\\n\\nThe tribe will be in town from April 16 to...</td>\n",
       "      <td>0</td>\n",
       "      <td>tribe town numero always available though many...</td>\n",
       "    </tr>\n",
       "    <tr>\n",
       "      <th>1</th>\n",
       "      <td>This game would have been great as part of a d...</td>\n",
       "      <td>1</td>\n",
       "      <td>game would great part double header league wou...</td>\n",
       "    </tr>\n",
       "    <tr>\n",
       "      <th>2</th>\n",
       "      <td>My god, hope we don't have to put up with this...</td>\n",
       "      <td>0</td>\n",
       "      <td>god hope put kind junk season many home numero...</td>\n",
       "    </tr>\n",
       "    <tr>\n",
       "      <th>3</th>\n",
       "      <td>\\n\\n\\nI heard it will be the Minnesota-Detroit...</td>\n",
       "      <td>1</td>\n",
       "      <td>game know time though</td>\n",
       "    </tr>\n",
       "    <tr>\n",
       "      <th>4</th>\n",
       "      <td>I would like to make everyone aware that in wi...</td>\n",
       "      <td>0</td>\n",
       "      <td>would like make everyone aware winning west le...</td>\n",
       "    </tr>\n",
       "  </tbody>\n",
       "</table>\n",
       "</div>"
      ],
      "text/plain": [
       "                                                Text  target  \\\n",
       "0  \\n\\nThe tribe will be in town from April 16 to...       0   \n",
       "1  This game would have been great as part of a d...       1   \n",
       "2  My god, hope we don't have to put up with this...       0   \n",
       "3  \\n\\n\\nI heard it will be the Minnesota-Detroit...       1   \n",
       "4  I would like to make everyone aware that in wi...       0   \n",
       "\n",
       "                                  text_preprocessing  \n",
       "0  tribe town numero always available though many...  \n",
       "1  game would great part double header league wou...  \n",
       "2  god hope put kind junk season many home numero...  \n",
       "3                              game know time though  \n",
       "4  would like make everyone aware winning west le...  "
      ]
     },
     "execution_count": 322,
     "metadata": {},
     "output_type": "execute_result"
    }
   ],
   "source": [
    "train_data.head()"
   ]
  },
  {
   "cell_type": "code",
   "execution_count": 321,
   "metadata": {},
   "outputs": [
    {
     "name": "stderr",
     "output_type": "stream",
     "text": [
      "/home/luiz/Documentos/meetup_active/venv/lib/python3.7/site-packages/ipykernel_launcher.py:1: SettingWithCopyWarning: \n",
      "A value is trying to be set on a copy of a slice from a DataFrame\n",
      "\n",
      "See the caveats in the documentation: https://pandas.pydata.org/pandas-docs/stable/user_guide/indexing.html#returning-a-view-versus-a-copy\n",
      "  \"\"\"Entry point for launching an IPython kernel.\n"
     ]
    }
   ],
   "source": [
    "train_data.target[500:] = -1"
   ]
  },
  {
   "cell_type": "code",
   "execution_count": 294,
   "metadata": {},
   "outputs": [],
   "source": [
    "train_data.reset_index(inplace=True)"
   ]
  },
  {
   "cell_type": "code",
   "execution_count": 323,
   "metadata": {},
   "outputs": [
    {
     "data": {
      "text/html": [
       "<div>\n",
       "<style scoped>\n",
       "    .dataframe tbody tr th:only-of-type {\n",
       "        vertical-align: middle;\n",
       "    }\n",
       "\n",
       "    .dataframe tbody tr th {\n",
       "        vertical-align: top;\n",
       "    }\n",
       "\n",
       "    .dataframe thead th {\n",
       "        text-align: right;\n",
       "    }\n",
       "</style>\n",
       "<table border=\"1\" class=\"dataframe\">\n",
       "  <thead>\n",
       "    <tr style=\"text-align: right;\">\n",
       "      <th></th>\n",
       "      <th>Text</th>\n",
       "      <th>target</th>\n",
       "      <th>text_preprocessing</th>\n",
       "    </tr>\n",
       "  </thead>\n",
       "  <tbody>\n",
       "    <tr>\n",
       "      <th>0</th>\n",
       "      <td>\\n\\nThe tribe will be in town from April 16 to...</td>\n",
       "      <td>0</td>\n",
       "      <td>tribe town numero always available though many...</td>\n",
       "    </tr>\n",
       "    <tr>\n",
       "      <th>1</th>\n",
       "      <td>This game would have been great as part of a d...</td>\n",
       "      <td>1</td>\n",
       "      <td>game would great part double header league wou...</td>\n",
       "    </tr>\n",
       "    <tr>\n",
       "      <th>2</th>\n",
       "      <td>My god, hope we don't have to put up with this...</td>\n",
       "      <td>0</td>\n",
       "      <td>god hope put kind junk season many home numero...</td>\n",
       "    </tr>\n",
       "    <tr>\n",
       "      <th>3</th>\n",
       "      <td>\\n\\n\\nI heard it will be the Minnesota-Detroit...</td>\n",
       "      <td>1</td>\n",
       "      <td>game know time though</td>\n",
       "    </tr>\n",
       "    <tr>\n",
       "      <th>4</th>\n",
       "      <td>I would like to make everyone aware that in wi...</td>\n",
       "      <td>0</td>\n",
       "      <td>would like make everyone aware winning west le...</td>\n",
       "    </tr>\n",
       "    <tr>\n",
       "      <th>...</th>\n",
       "      <td>...</td>\n",
       "      <td>...</td>\n",
       "      <td>...</td>\n",
       "    </tr>\n",
       "    <tr>\n",
       "      <th>1192</th>\n",
       "      <td>\\nQuestion:\\nIf a team uses 40 players in a se...</td>\n",
       "      <td>-1</td>\n",
       "      <td>question team numero season merely divide tota...</td>\n",
       "    </tr>\n",
       "    <tr>\n",
       "      <th>1193</th>\n",
       "      <td>Does anyone have the NHL STANDINGS for March 2...</td>\n",
       "      <td>-1</td>\n",
       "      <td>anyone march need immediately project please p...</td>\n",
       "    </tr>\n",
       "    <tr>\n",
       "      <th>1194</th>\n",
       "      <td>The Dodgers have been shopping Harris to other...</td>\n",
       "      <td>-1</td>\n",
       "      <td>shopping quest left handed pitching far person...</td>\n",
       "    </tr>\n",
       "    <tr>\n",
       "      <th>1195</th>\n",
       "      <td>\\n\\nI'm not quite sure how these numbers are g...</td>\n",
       "      <td>-1</td>\n",
       "      <td>quite sure neutral park bo slugging tend drop ...</td>\n",
       "    </tr>\n",
       "    <tr>\n",
       "      <th>1196</th>\n",
       "      <td>Picture if you will, the Habs going into the l...</td>\n",
       "      <td>-1</td>\n",
       "      <td>picture going last couple game leading numero ...</td>\n",
       "    </tr>\n",
       "  </tbody>\n",
       "</table>\n",
       "<p>1197 rows × 3 columns</p>\n",
       "</div>"
      ],
      "text/plain": [
       "                                                   Text  target  \\\n",
       "0     \\n\\nThe tribe will be in town from April 16 to...       0   \n",
       "1     This game would have been great as part of a d...       1   \n",
       "2     My god, hope we don't have to put up with this...       0   \n",
       "3     \\n\\n\\nI heard it will be the Minnesota-Detroit...       1   \n",
       "4     I would like to make everyone aware that in wi...       0   \n",
       "...                                                 ...     ...   \n",
       "1192  \\nQuestion:\\nIf a team uses 40 players in a se...      -1   \n",
       "1193  Does anyone have the NHL STANDINGS for March 2...      -1   \n",
       "1194  The Dodgers have been shopping Harris to other...      -1   \n",
       "1195  \\n\\nI'm not quite sure how these numbers are g...      -1   \n",
       "1196  Picture if you will, the Habs going into the l...      -1   \n",
       "\n",
       "                                     text_preprocessing  \n",
       "0     tribe town numero always available though many...  \n",
       "1     game would great part double header league wou...  \n",
       "2     god hope put kind junk season many home numero...  \n",
       "3                                 game know time though  \n",
       "4     would like make everyone aware winning west le...  \n",
       "...                                                 ...  \n",
       "1192  question team numero season merely divide tota...  \n",
       "1193  anyone march need immediately project please p...  \n",
       "1194  shopping quest left handed pitching far person...  \n",
       "1195  quite sure neutral park bo slugging tend drop ...  \n",
       "1196  picture going last couple game leading numero ...  \n",
       "\n",
       "[1197 rows x 3 columns]"
      ]
     },
     "execution_count": 323,
     "metadata": {},
     "output_type": "execute_result"
    }
   ],
   "source": [
    "train_data"
   ]
  },
  {
   "cell_type": "code",
   "execution_count": 296,
   "metadata": {},
   "outputs": [],
   "source": [
    "pipe = Pipeline(steps=[\n",
    "    ('counts', CountVectorizer()),\n",
    "    ('tfidf', TfidfTransformer())\n",
    "])"
   ]
  },
  {
   "cell_type": "code",
   "execution_count": 324,
   "metadata": {},
   "outputs": [],
   "source": [
    "X_sparse = pipe.fit_transform(train_data.text_preprocessing)"
   ]
  },
  {
   "cell_type": "code",
   "execution_count": 326,
   "metadata": {},
   "outputs": [],
   "source": [
    "# Define our LSA transformer and fit it onto our dataset.\n",
    "svd = TruncatedSVD(n_components=2, random_state=42)\n",
    "data = svd.fit_transform(X_sparse) "
   ]
  },
  {
   "cell_type": "code",
   "execution_count": 360,
   "metadata": {},
   "outputs": [
    {
     "data": {
      "image/png": "[encoded data removed]",
      "text/plain": [
       "<Figure size 1080x504 with 1 Axes>"
      ]
     },
     "metadata": {
      "needs_background": "light"
     },
     "output_type": "display_data"
    }
   ],
   "source": [
    "# Isolate the data we'll need for plotting.\n",
    "x_component, y_component = data[:, 0], data[:, 1]\n",
    "\n",
    "# Plot our dimensionality-reduced (via LSA) dataset.\n",
    "fig, ax = plt.subplots(figsize=(15,7))\n",
    "scatter = ax.scatter(x=x_component, y=y_component, c=train_data.target, cmap='viridis')\n",
    "classes = ['Unknown Label', 'No', 'Yes']\n",
    "\n",
    "legend1 = ax.legend(handles=scatter.legend_elements()[0], labels=classes,\n",
    "                    loc=\"upper left\", title=\"Classes\")\n",
    "handles, labels = scatter.legend_elements(prop=\"sizes\", alpha=0.6)\n",
    "plt.title('LSA transformation')\n",
    "plt.show()"
   ]
  },
  {
   "cell_type": "code",
   "execution_count": 328,
   "metadata": {},
   "outputs": [],
   "source": [
    "X_pool = train_data.query(\"target == -1\")"
   ]
  },
  {
   "cell_type": "code",
   "execution_count": 336,
   "metadata": {},
   "outputs": [],
   "source": [
    "X_pool = X_pool.reset_index().rename_axis('index_sparse').reset_index()"
   ]
  },
  {
   "cell_type": "code",
   "execution_count": 337,
   "metadata": {},
   "outputs": [
    {
     "data": {
      "text/html": [
       "<div>\n",
       "<style scoped>\n",
       "    .dataframe tbody tr th:only-of-type {\n",
       "        vertical-align: middle;\n",
       "    }\n",
       "\n",
       "    .dataframe tbody tr th {\n",
       "        vertical-align: top;\n",
       "    }\n",
       "\n",
       "    .dataframe thead th {\n",
       "        text-align: right;\n",
       "    }\n",
       "</style>\n",
       "<table border=\"1\" class=\"dataframe\">\n",
       "  <thead>\n",
       "    <tr style=\"text-align: right;\">\n",
       "      <th></th>\n",
       "      <th>index_sparse</th>\n",
       "      <th>index</th>\n",
       "      <th>Text</th>\n",
       "      <th>target</th>\n",
       "      <th>text_preprocessing</th>\n",
       "    </tr>\n",
       "  </thead>\n",
       "  <tbody>\n",
       "    <tr>\n",
       "      <th>0</th>\n",
       "      <td>0</td>\n",
       "      <td>500</td>\n",
       "      <td>I Love it how all of these people are \"blaming...</td>\n",
       "      <td>-1</td>\n",
       "      <td>love people blaming success weak division look...</td>\n",
       "    </tr>\n",
       "    <tr>\n",
       "      <th>1</th>\n",
       "      <td>1</td>\n",
       "      <td>501</td>\n",
       "      <td>\\nJudging by the way the Reds' pitchers have p...</td>\n",
       "      <td>-1</td>\n",
       "      <td>way thus far zone size grape numero numero</td>\n",
       "    </tr>\n",
       "    <tr>\n",
       "      <th>2</th>\n",
       "      <td>2</td>\n",
       "      <td>502</td>\n",
       "      <td>\\n\\n\\nNow, on the other hand, Juan Gonzales pr...</td>\n",
       "      <td>-1</td>\n",
       "      <td>hand probably shot numero actually might eric ...</td>\n",
       "    </tr>\n",
       "    <tr>\n",
       "      <th>3</th>\n",
       "      <td>3</td>\n",
       "      <td>503</td>\n",
       "      <td>\\nLinares has not defected; as I pointed out, ...</td>\n",
       "      <td>-1</td>\n",
       "      <td>pointed player defect first surprise long pool...</td>\n",
       "    </tr>\n",
       "    <tr>\n",
       "      <th>4</th>\n",
       "      <td>4</td>\n",
       "      <td>504</td>\n",
       "      <td>The Blackhawks shall triumph.</td>\n",
       "      <td>-1</td>\n",
       "      <td>shall triumph</td>\n",
       "    </tr>\n",
       "  </tbody>\n",
       "</table>\n",
       "</div>"
      ],
      "text/plain": [
       "   index_sparse  index                                               Text  \\\n",
       "0             0    500  I Love it how all of these people are \"blaming...   \n",
       "1             1    501  \\nJudging by the way the Reds' pitchers have p...   \n",
       "2             2    502  \\n\\n\\nNow, on the other hand, Juan Gonzales pr...   \n",
       "3             3    503  \\nLinares has not defected; as I pointed out, ...   \n",
       "4             4    504                      The Blackhawks shall triumph.   \n",
       "\n",
       "   target                                 text_preprocessing  \n",
       "0      -1  love people blaming success weak division look...  \n",
       "1      -1         way thus far zone size grape numero numero  \n",
       "2      -1  hand probably shot numero actually might eric ...  \n",
       "3      -1  pointed player defect first surprise long pool...  \n",
       "4      -1                                      shall triumph  "
      ]
     },
     "execution_count": 337,
     "metadata": {},
     "output_type": "execute_result"
    }
   ],
   "source": [
    "X_pool.head()"
   ]
  },
  {
   "cell_type": "code",
   "execution_count": 338,
   "metadata": {},
   "outputs": [
    {
     "data": {
      "text/plain": [
       "(697, 5)"
      ]
     },
     "execution_count": 338,
     "metadata": {},
     "output_type": "execute_result"
    }
   ],
   "source": [
    "X_pool.shape"
   ]
  },
  {
   "cell_type": "code",
   "execution_count": 339,
   "metadata": {},
   "outputs": [],
   "source": [
    "X_pool_sparse = pipe.transform(X_pool.text_preprocessing)"
   ]
  },
  {
   "cell_type": "code",
   "execution_count": 340,
   "metadata": {},
   "outputs": [
    {
     "data": {
      "text/plain": [
       "<697x5472 sparse matrix of type '<class 'numpy.float64'>'\n",
       "\twith 24683 stored elements in Compressed Sparse Row format>"
      ]
     },
     "execution_count": 340,
     "metadata": {},
     "output_type": "execute_result"
    }
   ],
   "source": [
    "X_pool_sparse"
   ]
  },
  {
   "cell_type": "code",
   "execution_count": 341,
   "metadata": {},
   "outputs": [],
   "source": [
    "svm = SVC(probability=True)"
   ]
  },
  {
   "cell_type": "markdown",
   "metadata": {},
   "source": [
    "**Parameters**:\t\n",
    "\n",
    "**classifier** – The classifier for which the labels are to be queried.\n",
    "\n",
    "**X** – The pool of samples to query from.\n",
    "\n",
    "**n_instances** – Number of samples to be queried.\n",
    "\n",
    "**random_tie_break** – If True, shuffles utility scores to randomize the order. This can be used to break the tie when the highest utility score is not unique.\n",
    "\n",
    "**uncertainty_measure_kwargs** – Keyword arguments to be passed for the uncertainty measure function.\n",
    "\n",
    "Returns:\t\n",
    "\n",
    "The indices of the instances from X chosen to be labelled; the instances from X chosen to be labelled."
   ]
  },
  {
   "cell_type": "code",
   "execution_count": 342,
   "metadata": {},
   "outputs": [],
   "source": [
    "index_list = list(uncertainty_sampling(svm, X_pool_sparse, n_instances=50)[0])"
   ]
  },
  {
   "cell_type": "code",
   "execution_count": 343,
   "metadata": {},
   "outputs": [
    {
     "data": {
      "text/plain": [
       "(array([478, 480, 438, 439, 440, 441, 442, 443, 444, 445, 446, 447, 448,\n",
       "        449, 450, 451, 452, 453, 454, 455, 456, 457, 458, 459, 460, 461,\n",
       "        462, 463, 464, 465, 466, 467, 468, 469, 470, 471, 472, 473, 474,\n",
       "        475, 476, 477, 436, 479, 507, 506, 509, 508, 511, 505]),\n",
       " <50x5472 sparse matrix of type '<class 'numpy.float64'>'\n",
       " \twith 1722 stored elements in Compressed Sparse Row format>)"
      ]
     },
     "execution_count": 343,
     "metadata": {},
     "output_type": "execute_result"
    }
   ],
   "source": [
    "uncertainty_sampling(svm, X_pool_sparse, n_instances=50)"
   ]
  },
  {
   "cell_type": "code",
   "execution_count": 348,
   "metadata": {},
   "outputs": [],
   "source": [
    "X_pool_query = X_pool[X_pool.index_sparse.isin(index_list)]"
   ]
  },
  {
   "cell_type": "code",
   "execution_count": 352,
   "metadata": {},
   "outputs": [
    {
     "data": {
      "text/html": [
       "<div>\n",
       "<style scoped>\n",
       "    .dataframe tbody tr th:only-of-type {\n",
       "        vertical-align: middle;\n",
       "    }\n",
       "\n",
       "    .dataframe tbody tr th {\n",
       "        vertical-align: top;\n",
       "    }\n",
       "\n",
       "    .dataframe thead th {\n",
       "        text-align: right;\n",
       "    }\n",
       "</style>\n",
       "<table border=\"1\" class=\"dataframe\">\n",
       "  <thead>\n",
       "    <tr style=\"text-align: right;\">\n",
       "      <th></th>\n",
       "      <th>index_sparse</th>\n",
       "      <th>index</th>\n",
       "      <th>Text</th>\n",
       "      <th>target</th>\n",
       "      <th>text_preprocessing</th>\n",
       "    </tr>\n",
       "  </thead>\n",
       "  <tbody>\n",
       "    <tr>\n",
       "      <th>436</th>\n",
       "      <td>436</td>\n",
       "      <td>936</td>\n",
       "      <td>How long has Don Cherry been a student at SFU?...</td>\n",
       "      <td>-1</td>\n",
       "      <td>long cherry student arche bunker please keep r...</td>\n",
       "    </tr>\n",
       "    <tr>\n",
       "      <th>438</th>\n",
       "      <td>438</td>\n",
       "      <td>938</td>\n",
       "      <td>\\nYou can't be serious!  I and many of my coll...</td>\n",
       "      <td>-1</td>\n",
       "      <td>serious many received bad roger fact roger hoc...</td>\n",
       "    </tr>\n",
       "    <tr>\n",
       "      <th>439</th>\n",
       "      <td>439</td>\n",
       "      <td>939</td>\n",
       "      <td>\\n\\tI loved the ABC coverage. The production w...</td>\n",
       "      <td>-1</td>\n",
       "      <td>coverage production excellent appearance excel...</td>\n",
       "    </tr>\n",
       "    <tr>\n",
       "      <th>440</th>\n",
       "      <td>440</td>\n",
       "      <td>940</td>\n",
       "      <td>ATTN: Those who live inthe Philadelphia Metro ...</td>\n",
       "      <td>-1</td>\n",
       "      <td>live area back listening remember morning talk...</td>\n",
       "    </tr>\n",
       "    <tr>\n",
       "      <th>441</th>\n",
       "      <td>441</td>\n",
       "      <td>941</td>\n",
       "      <td>\\n\\tWell, Druce pretty much sucked when he was...</td>\n",
       "      <td>-1</td>\n",
       "      <td>well pretty much one good season oh well notor...</td>\n",
       "    </tr>\n",
       "  </tbody>\n",
       "</table>\n",
       "</div>"
      ],
      "text/plain": [
       "     index_sparse  index                                               Text  \\\n",
       "436           436    936  How long has Don Cherry been a student at SFU?...   \n",
       "438           438    938  \\nYou can't be serious!  I and many of my coll...   \n",
       "439           439    939  \\n\\tI loved the ABC coverage. The production w...   \n",
       "440           440    940  ATTN: Those who live inthe Philadelphia Metro ...   \n",
       "441           441    941  \\n\\tWell, Druce pretty much sucked when he was...   \n",
       "\n",
       "     target                                 text_preprocessing  \n",
       "436      -1  long cherry student arche bunker please keep r...  \n",
       "438      -1  serious many received bad roger fact roger hoc...  \n",
       "439      -1  coverage production excellent appearance excel...  \n",
       "440      -1  live area back listening remember morning talk...  \n",
       "441      -1  well pretty much one good season oh well notor...  "
      ]
     },
     "execution_count": 352,
     "metadata": {},
     "output_type": "execute_result"
    }
   ],
   "source": [
    "X_pool_query.head()"
   ]
  },
  {
   "cell_type": "code",
   "execution_count": 355,
   "metadata": {},
   "outputs": [
    {
     "data": {
      "text/html": [
       "<div>\n",
       "<style scoped>\n",
       "    .dataframe tbody tr th:only-of-type {\n",
       "        vertical-align: middle;\n",
       "    }\n",
       "\n",
       "    .dataframe tbody tr th {\n",
       "        vertical-align: top;\n",
       "    }\n",
       "\n",
       "    .dataframe thead th {\n",
       "        text-align: right;\n",
       "    }\n",
       "</style>\n",
       "<table border=\"1\" class=\"dataframe\">\n",
       "  <thead>\n",
       "    <tr style=\"text-align: right;\">\n",
       "      <th></th>\n",
       "      <th>Text</th>\n",
       "      <th>target</th>\n",
       "      <th>text_preprocessing</th>\n",
       "    </tr>\n",
       "  </thead>\n",
       "  <tbody>\n",
       "    <tr>\n",
       "      <th>936</th>\n",
       "      <td>How long has Don Cherry been a student at SFU?...</td>\n",
       "      <td>-1</td>\n",
       "      <td>long cherry student arche bunker please keep r...</td>\n",
       "    </tr>\n",
       "    <tr>\n",
       "      <th>938</th>\n",
       "      <td>\\nYou can't be serious!  I and many of my coll...</td>\n",
       "      <td>-1</td>\n",
       "      <td>serious many received bad roger fact roger hoc...</td>\n",
       "    </tr>\n",
       "    <tr>\n",
       "      <th>939</th>\n",
       "      <td>\\n\\tI loved the ABC coverage. The production w...</td>\n",
       "      <td>-1</td>\n",
       "      <td>coverage production excellent appearance excel...</td>\n",
       "    </tr>\n",
       "    <tr>\n",
       "      <th>940</th>\n",
       "      <td>ATTN: Those who live inthe Philadelphia Metro ...</td>\n",
       "      <td>-1</td>\n",
       "      <td>live area back listening remember morning talk...</td>\n",
       "    </tr>\n",
       "    <tr>\n",
       "      <th>941</th>\n",
       "      <td>\\n\\tWell, Druce pretty much sucked when he was...</td>\n",
       "      <td>-1</td>\n",
       "      <td>well pretty much one good season oh well notor...</td>\n",
       "    </tr>\n",
       "  </tbody>\n",
       "</table>\n",
       "</div>"
      ],
      "text/plain": [
       "                                                  Text  target  \\\n",
       "936  How long has Don Cherry been a student at SFU?...      -1   \n",
       "938  \\nYou can't be serious!  I and many of my coll...      -1   \n",
       "939  \\n\\tI loved the ABC coverage. The production w...      -1   \n",
       "940  ATTN: Those who live inthe Philadelphia Metro ...      -1   \n",
       "941  \\n\\tWell, Druce pretty much sucked when he was...      -1   \n",
       "\n",
       "                                    text_preprocessing  \n",
       "936  long cherry student arche bunker please keep r...  \n",
       "938  serious many received bad roger fact roger hoc...  \n",
       "939  coverage production excellent appearance excel...  \n",
       "940  live area back listening remember morning talk...  \n",
       "941  well pretty much one good season oh well notor...  "
      ]
     },
     "execution_count": 355,
     "metadata": {},
     "output_type": "execute_result"
    }
   ],
   "source": [
    "train_data[train_data.index.isin(list(X_pool_query['index']))].head()"
   ]
  },
  {
   "cell_type": "code",
   "execution_count": 356,
   "metadata": {},
   "outputs": [],
   "source": [
    "X_pool_query_sparse = pipe.transform(X_pool_query.text_preprocessing) "
   ]
  },
  {
   "cell_type": "code",
   "execution_count": 357,
   "metadata": {},
   "outputs": [],
   "source": [
    "X_pool_query_sparse_svd = svd.transform(X_pool_query_sparse) "
   ]
  },
  {
   "cell_type": "code",
   "execution_count": 359,
   "metadata": {},
   "outputs": [
    {
     "data": {
      "image/png": "[encoded data removed]",
      "text/plain": [
       "<Figure size 1080x504 with 1 Axes>"
      ]
     },
     "metadata": {
      "needs_background": "light"
     },
     "output_type": "display_data"
    }
   ],
   "source": [
    "# Isolate the data we'll need for plotting.\n",
    "x_component, y_component = X_pool_query_sparse_svd[:, 0], X_pool_query_sparse_svd[:, 1]\n",
    "\n",
    "# Plot our dimensionality-reduced (via LSA) dataset.\n",
    "fig, ax = plt.subplots(figsize=(15,7))\n",
    "scatter = ax.scatter(x=x_component, y=y_component, c=testelodoi.target, cmap='viridis')\n",
    "classes = ['Unknown Label']\n",
    "\n",
    "legend1 = ax.legend(handles=scatter.legend_elements()[0], labels=classes,\n",
    "                    loc=\"upper left\", title=\"Classes\")\n",
    "handles, labels = scatter.legend_elements(prop=\"sizes\", alpha=0.6)\n",
    "plt.title('LSA transformation')\n",
    "plt.show()"
   ]
  }
 ],
 "metadata": {
  "kernelspec": {
   "display_name": "active",
   "language": "python",
   "name": "active"
  },
  "language_info": {
   "codemirror_mode": {
    "name": "ipython",
    "version": 3
   },
   "file_extension": ".py",
   "mimetype": "text/x-python",
   "name": "python",
   "nbconvert_exporter": "python",
   "pygments_lexer": "ipython3",
   "version": "3.7.4"
  }
 },
 "nbformat": 4,
 "nbformat_minor": 2
}
